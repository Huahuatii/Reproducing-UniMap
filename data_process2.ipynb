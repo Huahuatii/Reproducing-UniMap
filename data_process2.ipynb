{
 "cells": [
  {
   "cell_type": "code",
   "execution_count": 1,
   "metadata": {},
   "outputs": [],
   "source": [
    "import os\n",
    "import scanpy as sc\n",
    "import pickle as pkl\n",
    "import warnings\n",
    "from utils import pre_process_data, get_common_hvg, safe_make_dir\n",
    "\n",
    "warnings.filterwarnings('ignore')\n",
    "\n",
    "root_dir = 'raw_data'\n",
    "out_dir = 'data'"
   ]
  },
  {
   "cell_type": "code",
   "execution_count": 7,
   "metadata": {},
   "outputs": [
    {
     "name": "stderr",
     "output_type": "stream",
     "text": [
      "/home/hht/.local/lib/python3.9/site-packages/anndata/_core/anndata.py:879: UserWarning: \n",
      "AnnData expects .var.index to contain strings, but got values like:\n",
      "    ['ENSG00000238009.6', 'WASH9P', 'ENSG00000228463.10', 'ENSG00000237094.13', 'ENSG00000230021.10']\n",
      "\n",
      "    Inferred to be: categorical\n",
      "\n",
      "  names = self._prep_dim_index(names, \"var\")\n",
      "/home/hht/.conda/envs/unimap/lib/python3.9/site-packages/scanpy/preprocessing/_simple.py:139: ImplicitModificationWarning: Trying to modify attribute `.obs` of view, initializing view as actual.\n",
      "  adata.obs['n_genes'] = number\n",
      "/home/hht/.conda/envs/unimap/lib/python3.9/site-packages/scanpy/preprocessing/_normalization.py:169: UserWarning: Received a view of an AnnData. Making a copy.\n",
      "  view_to_actual(adata)\n",
      "/home/hht/.conda/envs/unimap/lib/python3.9/site-packages/scanpy/preprocessing/_highly_variable_genes.py:215: FutureWarning: The default of observed=False is deprecated and will be changed to True in a future version of pandas. Pass observed=False to retain current behavior or observed=True to adopt the future default and silence this warning.\n",
      "  disp_grouped = df.groupby('mean_bin')['dispersions']\n",
      "/home/hht/.local/lib/python3.9/site-packages/anndata/_core/anndata.py:879: UserWarning: \n",
      "AnnData expects .var.index to contain strings, but got values like:\n",
      "    ['ENSG00000238009.6', 'WASH9P', 'ENSG00000228463.10', 'ENSG00000237094.13', 'ENSG00000230021.10']\n",
      "\n",
      "    Inferred to be: categorical\n",
      "\n",
      "  names = self._prep_dim_index(names, \"var\")\n",
      "/home/hht/.conda/envs/unimap/lib/python3.9/site-packages/scanpy/preprocessing/_simple.py:139: ImplicitModificationWarning: Trying to modify attribute `.obs` of view, initializing view as actual.\n",
      "  adata.obs['n_genes'] = number\n",
      "/home/hht/.conda/envs/unimap/lib/python3.9/site-packages/scanpy/preprocessing/_normalization.py:169: UserWarning: Received a view of an AnnData. Making a copy.\n",
      "  view_to_actual(adata)\n",
      "/home/hht/.conda/envs/unimap/lib/python3.9/site-packages/scanpy/preprocessing/_highly_variable_genes.py:215: FutureWarning: The default of observed=False is deprecated and will be changed to True in a future version of pandas. Pass observed=False to retain current behavior or observed=True to adopt the future default and silence this warning.\n",
      "  disp_grouped = df.groupby('mean_bin')['dispersions']\n"
     ]
    },
    {
     "name": "stdout",
     "output_type": "stream",
     "text": [
      "data/pbmc9 exists!\n",
      "\n",
      "hvg file is saved in:  data/pbmc9/hvg_1815_pbmc9.pkl\n"
     ]
    },
    {
     "name": "stderr",
     "output_type": "stream",
     "text": [
      "/tmp/ipykernel_22915/2966192989.py:16: ResourceWarning: unclosed file <_io.BufferedWriter name='data/pbmc9/hvg_1815_pbmc9.pkl'>\n",
      "  pkl.dump(list(common_hvg), open(os.path.join(out_dir, f'pbmc9/hvg_{len(common_hvg)}_pbmc9.pkl'), 'wb'))\n",
      "ResourceWarning: Enable tracemalloc to get the object allocation traceback\n"
     ]
    }
   ],
   "source": [
    "# CASE1\n",
    "s_data = sc.read_h5ad(os.path.join(root_dir, 'pbmc9/pbmc9_s.h5ad'))\n",
    "t_data = sc.read_h5ad(os.path.join(root_dir, 'pbmc9/pbmc9_t.h5ad'))\n",
    "\n",
    "s_data.obs['celltype'].astype('str')\n",
    "t_data.obs['celltype'].astype('str')\n",
    "\n",
    "s_data = pre_process_data(s_data, n_top_genes=1200)\n",
    "t_data = pre_process_data(t_data, n_top_genes=1200)\n",
    "\n",
    "safe_make_dir(os.path.join(out_dir, 'pbmc9'))\n",
    "s_data.write_h5ad(os.path.join(out_dir, 'pbmc9/pbmc9_s.h5ad'))\n",
    "t_data.write_h5ad(os.path.join(out_dir, 'pbmc9/pbmc9_t.h5ad'))\n",
    "\n",
    "common_hvg = get_common_hvg([s_data, t_data])\n",
    "pkl.dump(list(common_hvg), open(os.path.join(out_dir, f'pbmc9/hvg_{len(common_hvg)}_pbmc9.pkl'), 'wb'))\n",
    "print(f'hvg file is saved in: ', os.path.join(out_dir, f'pbmc9/hvg_{len(common_hvg)}_pbmc9.pkl'))"
   ]
  },
  {
   "cell_type": "code",
   "execution_count": null,
   "metadata": {},
   "outputs": [],
   "source": [
    "# CASE2\n",
    "s_data = sc.read_h5ad(os.path.join(root_dir, 'pbmc40/pbmc40.h5ad'))\n",
    "t_data = sc.read_h5ad(os.path.join(root_dir, 'pbmc40/pbmc10.h5ad'))\n",
    "\n",
    "s_data.obs['celltype'].astype('str')\n",
    "t_data.obs['celltype'].astype('str')\n",
    "\n",
    "s_data = pre_process_data(s_data, n_top_genes=1200)\n",
    "t_data = pre_process_data(t_data, n_top_genes=1200)\n",
    "\n",
    "safe_make_dir(os.path.join(out_dir, 'pbmc40'))\n",
    "s_data.write_h5ad(os.path.join(out_dir, 'pbmc40/pbmc40.h5ad'))\n",
    "t_data.write_h5ad(os.path.join(out_dir, 'pbmc40/pbmc10.h5ad'))\n",
    "\n",
    "common_hvg = get_common_hvg([s_data, t_data])\n",
    "pkl.dump(list(common_hvg), open(os.path.join(out_dir, f'pbmc40/hvg_{len(common_hvg)}_pbmc40.pkl'), 'wb'))\n",
    "print(f'hvg file is saved in: ', os.path.join(out_dir, f'pbmc40/hvg_{len(common_hvg)}_pbmc40.pkl'))"
   ]
  },
  {
   "cell_type": "code",
   "execution_count": 9,
   "metadata": {},
   "outputs": [
    {
     "name": "stderr",
     "output_type": "stream",
     "text": [
      "/home/hht/.conda/envs/unimap/lib/python3.9/site-packages/scanpy/preprocessing/_simple.py:139: ImplicitModificationWarning: Trying to modify attribute `.obs` of view, initializing view as actual.\n",
      "  adata.obs['n_genes'] = number\n",
      "/home/hht/.conda/envs/unimap/lib/python3.9/site-packages/scanpy/preprocessing/_normalization.py:169: UserWarning: Received a view of an AnnData. Making a copy.\n",
      "  view_to_actual(adata)\n",
      "/home/hht/.conda/envs/unimap/lib/python3.9/site-packages/scanpy/preprocessing/_highly_variable_genes.py:215: FutureWarning: The default of observed=False is deprecated and will be changed to True in a future version of pandas. Pass observed=False to retain current behavior or observed=True to adopt the future default and silence this warning.\n",
      "  disp_grouped = df.groupby('mean_bin')['dispersions']\n",
      "/home/hht/.conda/envs/unimap/lib/python3.9/site-packages/scanpy/preprocessing/_simple.py:139: ImplicitModificationWarning: Trying to modify attribute `.obs` of view, initializing view as actual.\n",
      "  adata.obs['n_genes'] = number\n",
      "/home/hht/.conda/envs/unimap/lib/python3.9/site-packages/scanpy/preprocessing/_normalization.py:169: UserWarning: Received a view of an AnnData. Making a copy.\n",
      "  view_to_actual(adata)\n",
      "/home/hht/.conda/envs/unimap/lib/python3.9/site-packages/scanpy/preprocessing/_highly_variable_genes.py:215: FutureWarning: The default of observed=False is deprecated and will be changed to True in a future version of pandas. Pass observed=False to retain current behavior or observed=True to adopt the future default and silence this warning.\n",
      "  disp_grouped = df.groupby('mean_bin')['dispersions']\n",
      "/home/hht/.conda/envs/unimap/lib/python3.9/site-packages/scanpy/preprocessing/_simple.py:139: ImplicitModificationWarning: Trying to modify attribute `.obs` of view, initializing view as actual.\n",
      "  adata.obs['n_genes'] = number\n",
      "/home/hht/.conda/envs/unimap/lib/python3.9/site-packages/scanpy/preprocessing/_normalization.py:169: UserWarning: Received a view of an AnnData. Making a copy.\n",
      "  view_to_actual(adata)\n",
      "/home/hht/.conda/envs/unimap/lib/python3.9/site-packages/scanpy/preprocessing/_highly_variable_genes.py:215: FutureWarning: The default of observed=False is deprecated and will be changed to True in a future version of pandas. Pass observed=False to retain current behavior or observed=True to adopt the future default and silence this warning.\n",
      "  disp_grouped = df.groupby('mean_bin')['dispersions']\n",
      "/home/hht/.conda/envs/unimap/lib/python3.9/site-packages/scanpy/preprocessing/_simple.py:139: ImplicitModificationWarning: Trying to modify attribute `.obs` of view, initializing view as actual.\n",
      "  adata.obs['n_genes'] = number\n",
      "/home/hht/.conda/envs/unimap/lib/python3.9/site-packages/scanpy/preprocessing/_normalization.py:169: UserWarning: Received a view of an AnnData. Making a copy.\n",
      "  view_to_actual(adata)\n",
      "/home/hht/.conda/envs/unimap/lib/python3.9/site-packages/scanpy/preprocessing/_highly_variable_genes.py:215: FutureWarning: The default of observed=False is deprecated and will be changed to True in a future version of pandas. Pass observed=False to retain current behavior or observed=True to adopt the future default and silence this warning.\n",
      "  disp_grouped = df.groupby('mean_bin')['dispersions']\n"
     ]
    },
    {
     "name": "stdout",
     "output_type": "stream",
     "text": [
      "data/cross_species exists!\n",
      "\n",
      "hvg file is saved in:  data/cross_species/hvg_1208_cross_species.pkl\n"
     ]
    },
    {
     "name": "stderr",
     "output_type": "stream",
     "text": [
      "/tmp/ipykernel_7968/884391552.py:27: ResourceWarning: unclosed file <_io.BufferedWriter name='data/cross_species/hvg_1208_cross_species.pkl'>\n",
      "  pkl.dump(list(common_hvg), open(os.path.join(out_dir, f'cross_species/hvg_{len(common_hvg)}_cross_species.pkl'), 'wb'))\n",
      "ResourceWarning: Enable tracemalloc to get the object allocation traceback\n"
     ]
    }
   ],
   "source": [
    "# CASE3\n",
    "s_data = sc.read_h5ad(os.path.join(root_dir, 'cross_species/human.h5ad'))\n",
    "t_data_mouse = sc.read_h5ad(os.path.join(root_dir, 'cross_species/mouse.h5ad'))\n",
    "t_data_mm = sc.read_h5ad(os.path.join(root_dir, 'cross_species/macaqueM.h5ad'))\n",
    "t_data_mf = sc.read_h5ad(os.path.join(root_dir, 'cross_species/macaqueF.h5ad'))\n",
    "\n",
    "s_data = pre_process_data(s_data, n_top_genes=1600)\n",
    "t_data_mouse = pre_process_data(t_data_mouse, n_top_genes=1600)\n",
    "t_data_mm = pre_process_data(t_data_mm, n_top_genes=1600)\n",
    "t_data_mf = pre_process_data(t_data_mf, n_top_genes=1600)\n",
    "\n",
    "s_data.var.index = s_data.var.index.str.upper()\n",
    "t_data_mouse.var.index = t_data_mouse.var.index.str.upper()\n",
    "t_data_mm.var.index = t_data_mm.var.index.str.upper()\n",
    "t_data_mf.var.index = t_data_mf.var.index.str.upper()\n",
    "\n",
    "\n",
    "\n",
    "\n",
    "safe_make_dir(os.path.join(out_dir, 'cross_species'))\n",
    "s_data.write_h5ad(os.path.join(out_dir, 'cross_species/human.h5ad'))\n",
    "t_data_mouse.write_h5ad(os.path.join(out_dir, 'cross_species/mouse.h5ad'))\n",
    "t_data_mm.write_h5ad(os.path.join(out_dir, 'cross_species/macaqueM.h5ad'))\n",
    "t_data_mf.write_h5ad(os.path.join(out_dir, 'cross_species/macaqueF.h5ad'))\n",
    "\n",
    "common_hvg = get_common_hvg([s_data, t_data_mm, t_data_mf, t_data_mouse])\n",
    "pkl.dump(list(common_hvg), open(os.path.join(out_dir, f'cross_species/hvg_{len(common_hvg)}_cross_species.pkl'), 'wb'))\n",
    "print(f'hvg file is saved in: ', os.path.join(out_dir, f'cross_species/hvg_{len(common_hvg)}_cross_species.pkl'))"
   ]
  },
  {
   "cell_type": "code",
   "execution_count": null,
   "metadata": {},
   "outputs": [],
   "source": [
    "# CASE4\n",
    "s_hvg_background = [\n",
    "    'ZBTB16', 'ZNF462',  # NKT ()\n",
    "    'FOXP3', 'IKZF2', 'CYTOR', 'CCR4',  # Treg\n",
    "    'CXCR5', 'MAF',  # CD4 Tcm fh\n",
    "    'FOSB', 'FOS',  # CD4 Tcm Th0\n",
    "    'RORC', 'TNFRSF4',  # CD4 Tcm Th17\n",
    "    'ZBTB16', ' ZNF462',  # NKT periphery\n",
    "    'ZNF683', 'KLRK1',  # aa CD8 T\n",
    "    'EOMES', 'GZMK',  # CD8 Tem\n",
    "    'GZMK', 'KLRB1',  # CD4 Tem Th1/17\n",
    "    'GZMH', 'CST7',  # CD4 Tem Th1\n",
    "    'RGS1', 'CCL4L2',  # CD8 Trm\n",
    "    'NKG7', 'SATB1',  # CD8 Temra\n",
    "    'TBX21', 'CX3CR1'  # CD4 Temra Th1\n",
    "]\n",
    "\n",
    "s_data = sc.read_h5ad(os.path.join(root_dir, 'mg/mg_ref.h5ad'))\n",
    "t_data = sc.read_h5ad(os.path.join(root_dir, 'mg/mg_query.h5ad'))\n",
    "\n",
    "s_data = pre_process_data(s_data, n_top_genes=1200)\n",
    "t_data = pre_process_data(t_data, n_top_genes=1200)\n",
    "\n",
    "s_data.obs.index = s_data.obs.index + '_' + ['s']\n",
    "t_data.obs.index = t_data.obs.index + '_' + ['t']\n",
    "\n",
    "t_data.obs['batch'] = 'batch' + t_data.obs['batch'].astype(str)\n",
    "\n",
    "safe_make_dir(os.path.join(out_dir, 'mg'))\n",
    "s_data.write_h5ad(os.path.join(out_dir, 'mg/mg_ref.h5ad'))\n",
    "t_data.write_h5ad(os.path.join(out_dir, 'mg/mg_query.h5ad'))\n",
    "\n",
    "common_hvg = get_common_hvg([s_data, t_data], [s_hvg_background])\n",
    "pkl.dump(common_hvg, open(os.path.join(out_dir, f'mg/hvg_{len(common_hvg)}_mg.pkl'), 'wb'))\n",
    "print(f'hvg file is saved in: ', os.path.join(out_dir, f'mg/hvg_{len(common_hvg)}_mg.pkl'))"
   ]
  }
 ],
 "metadata": {
  "kernelspec": {
   "display_name": "unimap",
   "language": "python",
   "name": "python3"
  },
  "language_info": {
   "codemirror_mode": {
    "name": "ipython",
    "version": 3
   },
   "file_extension": ".py",
   "mimetype": "text/x-python",
   "name": "python",
   "nbconvert_exporter": "python",
   "pygments_lexer": "ipython3",
   "version": "3.9.18"
  }
 },
 "nbformat": 4,
 "nbformat_minor": 2
}
