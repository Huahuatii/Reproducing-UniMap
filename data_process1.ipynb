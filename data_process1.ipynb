{
 "cells": [
  {
   "cell_type": "code",
   "execution_count": 1,
   "metadata": {},
   "outputs": [],
   "source": [
    "import pandas as pd\n",
    "import scanpy as sc\n",
    "from scipy.sparse import csr_matrix\n",
    "from scipy.io import mmwrite, mmread\n",
    "import pickle as pkl\n",
    "import os\n",
    "import json\n",
    "import warnings\n",
    "from utils import safe_make_dir\n",
    "warnings.filterwarnings('ignore')\n",
    "\n",
    "root_dir = 'raw_data/raw_data/'\n",
    "out_dir = 'raw_data'"
   ]
  },
  {
   "cell_type": "markdown",
   "metadata": {},
   "source": [
    "### CASE1"
   ]
  },
  {
   "cell_type": "code",
   "execution_count": 2,
   "metadata": {},
   "outputs": [
    {
     "name": "stdout",
     "output_type": "stream",
     "text": [
      "raw_data/pbmc9 exists!\n",
      "\n"
     ]
    }
   ],
   "source": [
    "adata = sc.read_h5ad(os.path.join(root_dir, 'pbmc9/pbmc35699.h5ad'))\n",
    "adata.X = adata.raw.X\n",
    "\n",
    "adata.obs = adata.obs.assign(celltype=adata.obs['cell_type'],\n",
    "                             batch=adata.obs['donor_id'])\n",
    "adata.var.set_index('feature_name', inplace=True)\n",
    "\n",
    "\n",
    "s_data = adata[adata.obs['donor_id'].isin(['NL1', 'Emp2', 'Emp3']), :]\n",
    "t_data = adata[adata.obs['donor_id'].isin(['Emp1',  'NL2',  'NL3']), :]\n",
    "\n",
    "s_data = s_data[s_data.obs['celltype'] != 'plasma cell', :]  # natural killer cell, b cell, dendritic cell, \n",
    "t_data = t_data[t_data.obs['celltype'] != 'dendritic cell', :]\n",
    "\n",
    "safe_make_dir(os.path.join(out_dir, 'pbmc9'))\n",
    "s_data.write_h5ad(os.path.join(out_dir, 'pbmc9/pbmc9_s.h5ad'))\n",
    "t_data.write_h5ad(os.path.join(out_dir, 'pbmc9/pbmc9_t.h5ad'))"
   ]
  },
  {
   "cell_type": "markdown",
   "metadata": {},
   "source": [
    "### CASE2"
   ]
  },
  {
   "cell_type": "code",
   "execution_count": 7,
   "metadata": {},
   "outputs": [
    {
     "name": "stdout",
     "output_type": "stream",
     "text": [
      "raw_data/pbmc40 created!\n",
      "\n"
     ]
    }
   ],
   "source": [
    "s_data = sc.read_h5ad(os.path.join(root_dir, 'pbmc40/pbmc40.h5ad'))\n",
    "t_data = sc.read_h5ad(os.path.join(root_dir, 'pbmc40/pbmc10.h5ad'))\n",
    "\n",
    "s_data.X = s_data.raw.X\n",
    "t_data.X = t_data.raw.X\n",
    "\n",
    "s_data = s_data[s_data.obs.disease == 'COVID-19']\n",
    "s_data = s_data[s_data.obs.sample_id.isin(list(s_data.obs.sample_id.value_counts().index)[:20])]\n",
    "\n",
    "s_data.obs = s_data.obs.assign(celltype=s_data.obs['cell_type'], batch=s_data.obs['sample_id'], disease=s_data.obs['disease'])\n",
    "t_data.obs = t_data.obs.assign(celltype=t_data.obs['cell_type'], batch=t_data.obs['donor_id'])\n",
    "\n",
    "s_data.var.set_index('feature_name', inplace=True)\n",
    "t_data.var.set_index('feature_name', inplace=True)\n",
    "\n",
    "del_celltypes = s_data.obs.celltype.value_counts()[s_data.obs.celltype.value_counts() < 200].index\n",
    "s_data = s_data[~s_data.obs.celltype.isin(del_celltypes), :]\n",
    "\n",
    "safe_make_dir(os.path.join(out_dir, 'pbmc40'))\n",
    "s_data.write_h5ad(os.path.join(out_dir, 'pbmc40/pbmc40.h5ad'))\n",
    "t_data.write_h5ad(os.path.join(out_dir, 'pbmc40/pbmc10.h5ad'))"
   ]
  },
  {
   "cell_type": "markdown",
   "metadata": {},
   "source": [
    "### CASE3"
   ]
  },
  {
   "cell_type": "code",
   "execution_count": 12,
   "metadata": {},
   "outputs": [
    {
     "name": "stderr",
     "output_type": "stream",
     "text": [
      "... storing 'celltype' as categorical\n"
     ]
    },
    {
     "name": "stdout",
     "output_type": "stream",
     "text": [
      "raw_data/cross_species created!\n",
      "\n"
     ]
    },
    {
     "name": "stderr",
     "output_type": "stream",
     "text": [
      "... storing 'celltype' as categorical\n",
      "... storing 'celltype' as categorical\n",
      "... storing 'celltype' as categorical\n"
     ]
    }
   ],
   "source": [
    "ct_dict = json.load(open(os.path.join(root_dir, 'cross_species/ct_dict.json'), 'rb'))\n",
    "\n",
    "human = sc.read_h5ad(os.path.join(root_dir, 'cross_species/human.h5ad'))\n",
    "mouse = sc.read_h5ad(os.path.join(root_dir, 'cross_species/mouse.h5ad'))\n",
    "mm = sc.read_h5ad(os.path.join(root_dir, 'cross_species/macaqueM.h5ad'))\n",
    "mf = sc.read_h5ad(os.path.join(root_dir, 'cross_species/macaqueF.h5ad'))\n",
    "\n",
    "human.obs['celltype'] = human.obs['celltype'].map(ct_dict)\n",
    "mouse.obs['celltype'] = mouse.obs['celltype'].map(ct_dict)\n",
    "mm.obs['celltype'] = mm.obs['celltype'].map(ct_dict)\n",
    "mf.obs['celltype'] = mf.obs['celltype'].map(ct_dict)\n",
    "\n",
    "human.obs = human.obs.assign(celltype=human.obs['celltype'], batch=human.obs['batch'])\n",
    "mouse.obs = mouse.obs.assign(celltype=mouse.obs['celltype'], batch=mouse.obs['batch'])\n",
    "mm.obs = mm.obs.assign(celltype=mm.obs['celltype'], batch=mm.obs['batch'])\n",
    "mf.obs = mf.obs.assign(celltype=mf.obs['celltype'], batch=mf.obs['batch'])\n",
    "\n",
    "safe_make_dir(os.path.join(out_dir, 'cross_species'))\n",
    "human.write_h5ad(os.path.join(out_dir, 'cross_species/human.h5ad'))\n",
    "mouse.write_h5ad(os.path.join(out_dir, 'cross_species/mouse.h5ad'))\n",
    "mm.write_h5ad(os.path.join(out_dir, 'cross_species/macaqueM.h5ad'))\n",
    "mf.write_h5ad(os.path.join(out_dir, 'cross_species/macaqueF.h5ad'))"
   ]
  },
  {
   "cell_type": "markdown",
   "metadata": {},
   "source": [
    "### CASE4"
   ]
  },
  {
   "cell_type": "code",
   "execution_count": 13,
   "metadata": {},
   "outputs": [
    {
     "name": "stdout",
     "output_type": "stream",
     "text": [
      "raw_data/mg created!\n",
      "\n"
     ]
    }
   ],
   "source": [
    "s_data = sc.read_h5ad(os.path.join(root_dir, 'mg/mg_ref.h5ad'))\n",
    "t_data = sc.read_h5ad(os.path.join(root_dir, 'mg/mg_query.h5ad'))\n",
    "\n",
    "s_data.X = s_data.X.astype('float32')\n",
    "t_data.X = t_data.X.astype('float32')\n",
    "\n",
    "s_data.obs = s_data.obs.assign(celltype=s_data.obs['cell_type__custom'], celltype_major=s_data.obs['cell_type__ontology_label'], batch=s_data.obs['biosample_id'])\n",
    "t_data.obs = t_data.obs.assign(celltype=t_data.obs['predicted_labels_Celltypist'], batch=t_data.obs['batch'])\n",
    "\n",
    "safe_make_dir(os.path.join(out_dir, 'mg'))\n",
    "s_data.write_h5ad(os.path.join(out_dir, 'mg/mg_ref.h5ad'))\n",
    "t_data.write_h5ad(os.path.join(out_dir, 'mg/mg_query.h5ad'))"
   ]
  }
 ],
 "metadata": {
  "kernelspec": {
   "display_name": "unimap",
   "language": "python",
   "name": "python3"
  },
  "language_info": {
   "codemirror_mode": {
    "name": "ipython",
    "version": 3
   },
   "file_extension": ".py",
   "mimetype": "text/x-python",
   "name": "python",
   "nbconvert_exporter": "python",
   "pygments_lexer": "ipython3",
   "version": "3.9.18"
  }
 },
 "nbformat": 4,
 "nbformat_minor": 2
}
