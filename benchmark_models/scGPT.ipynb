{
 "cells": [
  {
   "cell_type": "code",
   "execution_count": 23,
   "metadata": {},
   "outputs": [
    {
     "name": "stderr",
     "output_type": "stream",
     "text": [
      "/home/hht/.conda/envs/scgpt/lib/python3.9/site-packages/umap/__init__.py:9: ImportWarning: Tensorflow not installed; ParametricUMAP will be unavailable\n",
      "  warn(\n",
      "/home/hht/Myapps/Reproducing UniMap/benchmark_models/../data_list.py:18: ResourceWarning: unclosed file <_io.BufferedReader name='/home/hht/Myapps/Reproducing UniMap/data/pbmc9/hvg_1781_pbmc9.pkl'>\n",
      "  pbmc9_hvg = pkl.load(open(os.path.join(root_data_folder, 'pbmc9/hvg_1781_pbmc9.pkl'), \"rb\"))\n",
      "ResourceWarning: Enable tracemalloc to get the object allocation traceback\n",
      "/home/hht/Myapps/Reproducing UniMap/benchmark_models/../data_list.py:23: ResourceWarning: unclosed file <_io.BufferedReader name='/home/hht/Myapps/Reproducing UniMap/data/pbmc40/hvg_1582_pbmc40.pkl'>\n",
      "  pbmc40_hvg = pkl.load(open(os.path.join(root_data_folder, 'pbmc40/hvg_1582_pbmc40.pkl'), \"rb\"))\n",
      "ResourceWarning: Enable tracemalloc to get the object allocation traceback\n",
      "/home/hht/Myapps/Reproducing UniMap/benchmark_models/../data_list.py:30: ResourceWarning: unclosed file <_io.BufferedReader name='/home/hht/Myapps/Reproducing UniMap/data/cross_species/hvg_1208_cross_species.pkl'>\n",
      "  cross_species_hvg = pkl.load(open(os.path.join(root_data_folder, 'cross_species/hvg_1208_cross_species.pkl'), \"rb\"))  # (1600)\n",
      "ResourceWarning: Enable tracemalloc to get the object allocation traceback\n",
      "/home/hht/Myapps/Reproducing UniMap/benchmark_models/../data_list.py:35: ResourceWarning: unclosed file <_io.BufferedReader name='/home/hht/Myapps/Reproducing UniMap/data/mg/hvg_1649_mg.pkl'>\n",
      "  mg_hvg = pkl.load(open(os.path.join(root_data_folder, 'mg/hvg_1649_mg.pkl'), \"rb\"))\n",
      "ResourceWarning: Enable tracemalloc to get the object allocation traceback\n"
     ]
    }
   ],
   "source": [
    "import sys\n",
    "from pathlib import Path\n",
    "\n",
    "import numpy as np\n",
    "import pandas as pd\n",
    "from scipy.stats import mode\n",
    "import scanpy as sc\n",
    "import sklearn\n",
    "import warnings\n",
    "\n",
    "sys.path.insert(0, \"../\")\n",
    "import scgpt as scg\n",
    "import faiss\n",
    "from data_list import get_scanpy_adata\n",
    "\n",
    "warnings.filterwarnings(\"ignore\", category=ResourceWarning)"
   ]
  },
  {
   "cell_type": "code",
   "execution_count": 24,
   "metadata": {},
   "outputs": [
    {
     "name": "stderr",
     "output_type": "stream",
     "text": [
      "/home/hht/.local/lib/python3.9/site-packages/anndata/_core/anndata.py:1105: DeprecationWarning: is_categorical_dtype is deprecated and will be removed in a future version. Use isinstance(dtype, pd.CategoricalDtype) instead\n",
      "  if not is_categorical_dtype(df_full[k]):\n",
      "/home/hht/.local/lib/python3.9/site-packages/anndata/_core/anndata.py:1105: DeprecationWarning: is_categorical_dtype is deprecated and will be removed in a future version. Use isinstance(dtype, pd.CategoricalDtype) instead\n",
      "  if not is_categorical_dtype(df_full[k]):\n",
      "/home/hht/Myapps/Reproducing UniMap/benchmark_models/../data_list.py:81: ImplicitModificationWarning: Trying to modify attribute `.obs` of view, initializing view as actual.\n",
      "  s_data.obs['pred_celltype'] = s_data.obs['celltype']\n",
      "/home/hht/.local/lib/python3.9/site-packages/anndata/_core/anndata.py:1105: DeprecationWarning: is_categorical_dtype is deprecated and will be removed in a future version. Use isinstance(dtype, pd.CategoricalDtype) instead\n",
      "  if not is_categorical_dtype(df_full[k]):\n"
     ]
    }
   ],
   "source": [
    "model_dir = Path(\"scgpt\")\n",
    "\n",
    "s_data, t_data = get_scanpy_adata('pbmc9')\n",
    "cell_type_key = \"celltype\"\n",
    "gene_col = \"index\""
   ]
  },
  {
   "cell_type": "code",
   "execution_count": 25,
   "metadata": {},
   "outputs": [],
   "source": [
    "num_to_keep = int(len(s_data.obs) * 0.1)\n",
    "indices_to_keep = np.random.choice(s_data.obs_names, size=num_to_keep, replace=False)\n",
    "s_data = s_data[s_data.obs_names.isin(indices_to_keep)]\n",
    "\n",
    "num_to_keep = int(len(t_data.obs) * 0.1)\n",
    "indices_to_keep = np.random.choice(t_data.obs_names, size=num_to_keep, replace=False)\n",
    "t_data = t_data[t_data.obs_names.isin(indices_to_keep)]"
   ]
  },
  {
   "cell_type": "code",
   "execution_count": 26,
   "metadata": {},
   "outputs": [
    {
     "data": {
      "text/plain": [
       "View of AnnData object with n_obs × n_vars = 2235 × 1781\n",
       "    obs: 'donor_id', 'nCount_RNA', 'nFeature_RNA', 'percent.mt', 'seurat_clusters', 'celltype', 'organism_ontology_term_id', 'assay_ontology_term_id', 'self_reported_ethnicity_ontology_term_id', 'tissue_ontology_term_id', 'is_primary_data', 'sex_ontology_term_id', 'development_stage_ontology_term_id', 'disease_ontology_term_id', 'cell_type_ontology_term_id', 'suspension_type', 'tissue_type', 'cell_type', 'assay', 'disease', 'organism', 'sex', 'tissue', 'self_reported_ethnicity', 'development_stage', 'observation_joinid', 'batch', 'n_genes', 'pred_celltype', 'domain'\n",
       "    var: 'highly_variable', 'means', 'dispersions', 'dispersions_norm'\n",
       "    uns: 'hvg'\n",
       "    obsm: 'X_pca', 'X_umap'"
      ]
     },
     "execution_count": 26,
     "metadata": {},
     "output_type": "execute_result"
    }
   ],
   "source": [
    "s_data"
   ]
  },
  {
   "cell_type": "code",
   "execution_count": 27,
   "metadata": {},
   "outputs": [
    {
     "data": {
      "text/plain": [
       "View of AnnData object with n_obs × n_vars = 1100 × 1781\n",
       "    obs: 'donor_id', 'nCount_RNA', 'nFeature_RNA', 'percent.mt', 'seurat_clusters', 'celltype', 'organism_ontology_term_id', 'assay_ontology_term_id', 'self_reported_ethnicity_ontology_term_id', 'tissue_ontology_term_id', 'is_primary_data', 'sex_ontology_term_id', 'development_stage_ontology_term_id', 'disease_ontology_term_id', 'cell_type_ontology_term_id', 'suspension_type', 'tissue_type', 'cell_type', 'assay', 'disease', 'organism', 'sex', 'tissue', 'self_reported_ethnicity', 'development_stage', 'observation_joinid', 'batch', 'n_genes', 'domain'\n",
       "    var: 'highly_variable', 'means', 'dispersions', 'dispersions_norm'\n",
       "    uns: 'hvg'\n",
       "    obsm: 'X_pca', 'X_umap'"
      ]
     },
     "execution_count": 27,
     "metadata": {},
     "output_type": "execute_result"
    }
   ],
   "source": [
    "t_data"
   ]
  },
  {
   "cell_type": "code",
   "execution_count": 18,
   "metadata": {},
   "outputs": [
    {
     "name": "stderr",
     "output_type": "stream",
     "text": [
      "/home/hht/.conda/envs/scgpt/lib/python3.9/site-packages/scgpt/tasks/cell_emb.py:190: ImplicitModificationWarning: Trying to modify attribute `.var` of view, initializing view as actual.\n",
      "  adata.var[\"index\"] = adata.var.index\n",
      "/home/hht/.conda/envs/scgpt/lib/python3.9/site-packages/torch/cuda/__init__.py:138: UserWarning: CUDA initialization: The NVIDIA driver on your system is too old (found version 11060). Please update your GPU driver by downloading and installing a new version from the URL: http://www.nvidia.com/Download/index.aspx Alternatively, go to: https://pytorch.org to install a PyTorch version that has been compiled with your version of the CUDA driver. (Triggered internally at ../c10/cuda/CUDAFunctions.cpp:108.)\n",
      "  return torch._C._cuda_getDeviceCount() > 0\n"
     ]
    },
    {
     "name": "stdout",
     "output_type": "stream",
     "text": [
      "WARNING: CUDA is not available. Using CPU instead.\n",
      "scGPT - INFO - match 1509/1781 genes in vocabulary of size 60697.\n"
     ]
    },
    {
     "name": "stderr",
     "output_type": "stream",
     "text": [
      "/home/hht/.local/lib/python3.9/site-packages/anndata/_core/anndata.py:1105: DeprecationWarning: is_categorical_dtype is deprecated and will be removed in a future version. Use isinstance(dtype, pd.CategoricalDtype) instead\n",
      "  if not is_categorical_dtype(df_full[k]):\n",
      "/home/hht/.conda/envs/scgpt/lib/python3.9/site-packages/scgpt/model/model.py:77: UserWarning: flash-attn is not installed, using pytorch transformer instead. Set use_fast_transformer=False to avoid this warning. Installing flash-attn is highly recommended.\n",
      "  warnings.warn(\n",
      "/home/hht/.conda/envs/scgpt/lib/python3.9/site-packages/torch/amp/autocast_mode.py:250: UserWarning: User provided device_type of 'cuda', but CUDA is not available. Disabling\n",
      "  warnings.warn(\n",
      "Embedding cells:   0%|          | 0/35 [00:00<?, ?it/s]/home/hht/.conda/envs/scgpt/lib/python3.9/site-packages/torch/nn/modules/transformer.py:380: UserWarning: The PyTorch API of nested tensors is in prototype stage and will change in the near future. (Triggered internally at ../aten/src/ATen/NestedTensorImpl.cpp:178.)\n",
      "  output = torch._nested_tensor_from_mask(output, src_key_padding_mask.logical_not(), mask_check=False)\n",
      "Embedding cells: 100%|██████████| 35/35 [01:44<00:00,  2.99s/it]\n",
      "/home/hht/.local/lib/python3.9/site-packages/anndata/_core/anndata.py:447: PendingDeprecationWarning: The dtype argument will be deprecated in anndata 0.10.0\n",
      "  warnings.warn(\n"
     ]
    },
    {
     "data": {
      "image/png": "[encoded data removed]",
      "text/plain": [
       "<Figure size 640x480 with 1 Axes>"
      ]
     },
     "metadata": {},
     "output_type": "display_data"
    }
   ],
   "source": [
    "ref_embed_adata = scg.tasks.embed_data(\n",
    "    s_data,\n",
    "    model_dir,\n",
    "    gene_col=gene_col,\n",
    "    obs_to_save=cell_type_key,  # optional arg, only for saving metainfo\n",
    "    batch_size=64,\n",
    "    return_new_adata=True,\n",
    ")\n",
    "\n",
    "sc.pp.neighbors(ref_embed_adata, use_rep=\"X\")\n",
    "sc.tl.umap(ref_embed_adata)\n",
    "sc.pl.umap(ref_embed_adata, color=cell_type_key, frameon=False, wspace=0.4)"
   ]
  },
  {
   "cell_type": "code",
   "execution_count": 28,
   "metadata": {},
   "outputs": [
    {
     "name": "stderr",
     "output_type": "stream",
     "text": [
      "/home/hht/.conda/envs/scgpt/lib/python3.9/site-packages/scgpt/tasks/cell_emb.py:190: ImplicitModificationWarning: Trying to modify attribute `.var` of view, initializing view as actual.\n",
      "  adata.var[\"index\"] = adata.var.index\n",
      "/home/hht/.conda/envs/scgpt/lib/python3.9/site-packages/torch/cuda/__init__.py:138: UserWarning: CUDA initialization: The NVIDIA driver on your system is too old (found version 11060). Please update your GPU driver by downloading and installing a new version from the URL: http://www.nvidia.com/Download/index.aspx Alternatively, go to: https://pytorch.org to install a PyTorch version that has been compiled with your version of the CUDA driver. (Triggered internally at ../c10/cuda/CUDAFunctions.cpp:108.)\n",
      "  return torch._C._cuda_getDeviceCount() > 0\n"
     ]
    },
    {
     "name": "stdout",
     "output_type": "stream",
     "text": [
      "WARNING: CUDA is not available. Using CPU instead.\n",
      "scGPT - INFO - match 1509/1781 genes in vocabulary of size 60697.\n"
     ]
    },
    {
     "name": "stderr",
     "output_type": "stream",
     "text": [
      "/home/hht/.local/lib/python3.9/site-packages/anndata/_core/anndata.py:1105: DeprecationWarning: is_categorical_dtype is deprecated and will be removed in a future version. Use isinstance(dtype, pd.CategoricalDtype) instead\n",
      "  if not is_categorical_dtype(df_full[k]):\n",
      "/home/hht/.conda/envs/scgpt/lib/python3.9/site-packages/scgpt/model/model.py:77: UserWarning: flash-attn is not installed, using pytorch transformer instead. Set use_fast_transformer=False to avoid this warning. Installing flash-attn is highly recommended.\n",
      "  warnings.warn(\n",
      "/home/hht/.conda/envs/scgpt/lib/python3.9/site-packages/torch/amp/autocast_mode.py:250: UserWarning: User provided device_type of 'cuda', but CUDA is not available. Disabling\n",
      "  warnings.warn(\n",
      "Embedding cells:   0%|          | 0/18 [00:00<?, ?it/s]/home/hht/.conda/envs/scgpt/lib/python3.9/site-packages/torch/nn/modules/transformer.py:380: UserWarning: The PyTorch API of nested tensors is in prototype stage and will change in the near future. (Triggered internally at ../aten/src/ATen/NestedTensorImpl.cpp:178.)\n",
      "  output = torch._nested_tensor_from_mask(output, src_key_padding_mask.logical_not(), mask_check=False)\n",
      "Embedding cells: 100%|██████████| 18/18 [00:53<00:00,  2.96s/it]\n",
      "/home/hht/.local/lib/python3.9/site-packages/anndata/_core/anndata.py:447: PendingDeprecationWarning: The dtype argument will be deprecated in anndata 0.10.0\n",
      "  warnings.warn(\n"
     ]
    }
   ],
   "source": [
    "test_embed_adata = scg.tasks.embed_data(\n",
    "    t_data,\n",
    "    model_dir,\n",
    "    gene_col=gene_col,\n",
    "    obs_to_save=cell_type_key,  # optional arg, only for saving metainfo\n",
    "    batch_size=64,\n",
    "    return_new_adata=True,\n",
    ")"
   ]
  },
  {
   "cell_type": "code",
   "execution_count": 38,
   "metadata": {},
   "outputs": [],
   "source": [
    "# ref_cell_embeddings = ref_embed_adata.X\n",
    "test_emebd = test_embed_adata.X\n",
    "\n",
    "k = 10  # number of neighbors\n",
    "\n",
    "\n",
    "# index = faiss.IndexFlatL2(ref_cell_embeddings.shape[1])\n",
    "# index.add(ref_cell_embeddings)\n",
    "\n",
    "# Query dataset, k - number of closest elements (returns 2 numpy arrays)\n",
    "# distances, labels = index.search(test_emebd, k)\n",
    "\n",
    "idx_list=[i for i in range(test_emebd.shape[0])]\n",
    "preds = []\n",
    "# for k in idx_list:\n",
    "    # idx = labels[k]\n",
    "   \n",
    "    # pred = ref_embed_adata.obs[cell_type_key][idx].value_counts()\n",
    "    # preds.append(pred.index[0])\n",
    "gt = t_data.obs[cell_type_key].to_numpy()\n",
    "\n",
    "# sklearn.metrics.accuracy_score(gt, preds)"
   ]
  },
  {
   "cell_type": "code",
   "execution_count": null,
   "metadata": {},
   "outputs": [],
   "source": [
    "ref_cell_embeddings = ref_embed_adata.X\n",
    "test_emebd = test_embed_adata.X\n",
    "\n",
    "k = 10  # number of neighbors\n",
    "\n",
    "\n",
    "index = faiss.IndexFlatL2(ref_cell_embeddings.shape[1])\n",
    "index.add(ref_cell_embeddings)\n",
    "\n",
    "# Query dataset, k - number of closest elements (returns 2 numpy arrays)\n",
    "distances, labels = index.search(test_emebd, k)\n",
    "\n",
    "idx_list=[i for i in range(test_emebd.shape[0])]\n",
    "preds = []\n",
    "for k in idx_list:\n",
    "    idx = labels[k]\n",
    "   \n",
    "    pred = ref_embed_adata.obs[cell_type_key][idx].value_counts()\n",
    "    preds.append(pred.index[0])\n",
    "gt = t_data.obs[cell_type_key].to_numpy()\n",
    "\n",
    "sklearn.metrics.accuracy_score(gt, preds)"
   ]
  },
  {
   "cell_type": "code",
   "execution_count": 37,
   "metadata": {},
   "outputs": [
    {
     "data": {
      "text/plain": [
       "512"
      ]
     },
     "execution_count": 37,
     "metadata": {},
     "output_type": "execute_result"
    }
   ],
   "source": [
    "np.concatenate([ref_cell_embeddings, test_emebd]).shape[1]"
   ]
  },
  {
   "cell_type": "code",
   "execution_count": null,
   "metadata": {},
   "outputs": [],
   "source": [
    "pd.DataFrame(ref_cell_embeddings)"
   ]
  },
  {
   "cell_type": "markdown",
   "metadata": {},
   "source": [
    "## step3"
   ]
  },
  {
   "cell_type": "code",
   "execution_count": 29,
   "metadata": {},
   "outputs": [],
   "source": [
    "from build_atlas_index_faiss import load_index, vote"
   ]
  },
  {
   "cell_type": "code",
   "execution_count": 30,
   "metadata": {},
   "outputs": [
    {
     "name": "stdout",
     "output_type": "stream",
     "text": [
      "Loading index and meta from scgpt ...\n",
      "Index loaded, num_embeddings: 35096827\n",
      "Set nprobe from 128 to 128 for 16384 clusters\n",
      "Loaded index with 35096827 cells\n"
     ]
    }
   ],
   "source": [
    "# use_gpu = faiss.get_num_cpus() > 0\n",
    "index, meta_labels = load_index(\n",
    "    index_dir=\"scgpt\",\n",
    "    use_config_file=False,\n",
    "    use_gpu=False,\n",
    ")\n",
    "print(f\"Loaded index with {index.ntotal} cells\")\n"
   ]
  },
  {
   "cell_type": "code",
   "execution_count": 34,
   "metadata": {},
   "outputs": [],
   "source": [
    "k = 50\n",
    "# test with the first 100 cells\n",
    "distances, idx = index.search(test_emebd, k)"
   ]
  },
  {
   "cell_type": "code",
   "execution_count": 35,
   "metadata": {},
   "outputs": [
    {
     "name": "stderr",
     "output_type": "stream",
     "text": [
      "100%|██████████| 1100/1100 [00:00<00:00, 20151.98it/s]\n"
     ]
    }
   ],
   "source": [
    "predict_labels = meta_labels[idx]\n",
    "# from scipy.stats import mode\n",
    "from tqdm import tqdm\n",
    "\n",
    "voting = []\n",
    "for preds in tqdm(predict_labels):\n",
    "    voting.append(vote(preds, return_prob=False)[0])\n",
    "voting = np.array(voting)"
   ]
  },
  {
   "cell_type": "code",
   "execution_count": 39,
   "metadata": {},
   "outputs": [
    {
     "name": "stdout",
     "output_type": "stream",
     "text": [
      "['monocyte' 'T cell' 'dendritic cell' 'monocyte' 'T cell' 'dendritic cell'\n",
      " 'monocyte' 'dendritic cell' 'monocyte' 'natural killer cell']\n",
      "['classical monocyte' 'CD4-positive, alpha-beta T cell' 'macrophage'\n",
      " 'classical monocyte' 'natural killer cell' 'macrophage' 'macrophage'\n",
      " 'conventional dendritic cell' 'classical monocyte'\n",
      " 'CD16-positive, CD56-dim natural killer cell, human']\n"
     ]
    }
   ],
   "source": [
    "print(gt[:10])   # Original labels in the query dataset, used for evaluation\n",
    "print(voting[:10])  # Propagated CellXGene labels"
   ]
  }
 ],
 "metadata": {
  "kernelspec": {
   "display_name": "unimap",
   "language": "python",
   "name": "python3"
  },
  "language_info": {
   "codemirror_mode": {
    "name": "ipython",
    "version": 3
   },
   "file_extension": ".py",
   "mimetype": "text/x-python",
   "name": "python",
   "nbconvert_exporter": "python",
   "pygments_lexer": "ipython3",
   "version": "3.9.19"
  }
 },
 "nbformat": 4,
 "nbformat_minor": 2
}
